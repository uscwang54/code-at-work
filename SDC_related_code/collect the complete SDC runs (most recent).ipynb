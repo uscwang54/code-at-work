{
 "cells": [
  {
   "cell_type": "code",
   "execution_count": 67,
   "metadata": {
    "collapsed": true
   },
   "outputs": [],
   "source": [
    "import os\n",
    "#import re\n",
    "import numpy as np\n",
    "from glob import glob\n",
    "#from collections import Counter\n",
    "#import matplotlib.pyplot as plt\n",
    "#%matplotlib inline\n",
    "\n",
    "parent_folder_path = r\"C:\\INST\\RUNS\\20181212_MnNiCaYInLa_51770\"\n",
    "CV2_file_paths = glob(os.path.join(parent_folder_path, '*\\*CV2*')) #grab all CV2 files in the sub_folders\n",
    "\n",
    "sample_num_list = []\n",
    "for CV2_file_path in CV2_file_paths:\n",
    "    sample_number = os.path.basename(CV2_file_path).split('_')[0]\n",
    "    sample_num_list.append(sample_number)\n",
    "\n",
    "unique_sample_num_list = list(set(sample_num_list)) #find the unique sample numbers\n",
    "\n",
    "sample_dict = {}\n",
    "for unique_sample_num in unique_sample_num_list:\n",
    "        sample_dict[unique_sample_num] = [] #sample dict with Sample#:[] pairs\n",
    "\n",
    "for CV2_file_path in CV2_file_paths:\n",
    "    sample_number = os.path.basename(CV2_file_path).split('_')[0]\n",
    "    for unique_sample_num in unique_sample_num_list:\n",
    "        if sample_number==unique_sample_num:\n",
    "            sample_dict[unique_sample_num].append(CV2_file_path)\n",
    "            # sample dict with Sample#:[related CV2 files (1 or more)] pairs\n",
    "\n",
    "# select only the most recent CV2 file per each unique sample number\n",
    "for sample_num, CV2_file_paths in sample_dict.items():\n",
    "    if len(CV2_file_paths) > 1:\n",
    "        sample_times = [os.path.getctime(CV2_file) for CV2_file in CV2_file_paths]\n",
    "        max_index = np.array(sample_times).argmax() \n",
    "        desired_CV2_file = CV2_file_paths[max_index]\n",
    "        del CV2_file_paths[:]\n",
    "        CV2_file_paths.append(desired_CV2_file)     "
   ]
  },
  {
   "cell_type": "code",
   "execution_count": 69,
   "metadata": {
    "collapsed": false
   },
   "outputs": [
    {
     "data": {
      "text/plain": [
       "2167"
      ]
     },
     "execution_count": 69,
     "metadata": {},
     "output_type": "execute_result"
    }
   ],
   "source": [
    "len(sample_dict)"
   ]
  },
  {
   "cell_type": "code",
   "execution_count": 70,
   "metadata": {
    "collapsed": false
   },
   "outputs": [],
   "source": [
    "final_CV2_files = [] #all CV2 files; the most recent CV2 file for each unique sample number\n",
    "for sample_number, CV2_file_list in sample_dict.items():\n",
    "    final_CV2_files.append(CV2_file_list[0])"
   ]
  },
  {
   "cell_type": "code",
   "execution_count": 72,
   "metadata": {
    "collapsed": false
   },
   "outputs": [
    {
     "data": {
      "text/plain": [
       "2167"
      ]
     },
     "execution_count": 72,
     "metadata": {},
     "output_type": "execute_result"
    }
   ],
   "source": [
    "len(final_CV2_files)"
   ]
  },
  {
   "cell_type": "code",
   "execution_count": null,
   "metadata": {
    "collapsed": true
   },
   "outputs": [],
   "source": []
  }
 ],
 "metadata": {
  "kernelspec": {
   "display_name": "Python 2",
   "language": "python",
   "name": "python2"
  },
  "language_info": {
   "codemirror_mode": {
    "name": "ipython",
    "version": 2
   },
   "file_extension": ".py",
   "mimetype": "text/x-python",
   "name": "python",
   "nbconvert_exporter": "python",
   "pygments_lexer": "ipython2",
   "version": "2.7.13"
  }
 },
 "nbformat": 4,
 "nbformat_minor": 2
}
